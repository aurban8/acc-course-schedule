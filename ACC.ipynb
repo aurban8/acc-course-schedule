{
 "cells": [
  {
   "cell_type": "markdown",
   "metadata": {
    "collapsed": true
   },
   "source": [
    "Extract course schedule information from Austin Community College's website and write to a google sheet with date and time stamps."
   ]
  },
  {
   "cell_type": "code",
   "execution_count": 43,
   "metadata": {
    "collapsed": true
   },
   "outputs": [],
   "source": [
    "import requests\n",
    "import time \n",
    "import re"
   ]
  },
  {
   "cell_type": "code",
   "execution_count": 44,
   "metadata": {
    "collapsed": true
   },
   "outputs": [],
   "source": [
    "from bs4 import BeautifulSoup"
   ]
  },
  {
   "cell_type": "markdown",
   "metadata": {},
   "source": [
    "Beautiful Soup: python library that allows you to play with the html code on a website in order to extract the information that you are interested in.  https://www.crummy.com/software/BeautifulSoup/bs4/doc/"
   ]
  },
  {
   "cell_type": "code",
   "execution_count": 45,
   "metadata": {
    "collapsed": false
   },
   "outputs": [],
   "source": [
    "# Import from ACC website into beautiful soup\n",
    "url = 'http://www6.austincc.edu/schedule/'\n",
    "response= requests.get(url)\n",
    "html = response.content\n",
    "soup = BeautifulSoup(html)\n",
    "# Run the next command if you want to see what beautiful soup did to the html code\n",
    "#print(soup.prettify())\n"
   ]
  },
  {
   "cell_type": "code",
   "execution_count": 46,
   "metadata": {
    "collapsed": false
   },
   "outputs": [],
   "source": [
    "# Get URL for disciplines in \"disciplinelist\"\n",
    "#disciplinelist = [\"Chemistry\",\"Astronomy\",\"Physics\", \"Biology\",\"Engineering\",\"Economics\"]\n",
    "disciplinelist = [\"Astronomy\",\"Physics\"]\n",
    "discipline=soup.find_all('a', string=disciplinelist)\n",
    "urls = []\n",
    "disciplines = []\n",
    "for index, i in enumerate(discipline):\n",
    "    urltemp = \"http://www6.austincc.edu/\" + discipline[index]['href'] \n",
    "    disciptemp = discipline[index].string\n",
    "    urls.append(urltemp)\n",
    "    disciplines.append(disciptemp)\n",
    "#print disciplines, urls"
   ]
  },
  {
   "cell_type": "code",
   "execution_count": 47,
   "metadata": {
    "collapsed": false
   },
   "outputs": [],
   "source": [
    "# Allow python to write to google sheets. Will need to be updated soon.\n",
    "# For more info, see links: https://developers.google.com/google-apps/spreadsheets/\n",
    "# Follow instruction in links below to create .json file needed below \"filename\"\n",
    "# http://gspread.readthedocs.io/en/latest/oauth2.html#oauth-credentials \n",
    "import json\n",
    "import gspread\n",
    "from oauth2client.client import SignedJwtAssertionCredentials\n",
    "####  on next line replace 'filename' with path and filename of .json file  which contains private key #####\n",
    "json_key = json.load(open('/Users/Andrea/Projects/WorkProjects/CourseSchedules/Course Schedule-7d7036b277cb.json'))\n",
    "#json_key = json.load(open('filename'))\n",
    "scope = ['https://spreadsheets.google.com/feeds']\n",
    "credentials = SignedJwtAssertionCredentials(json_key['client_email'], json_key['private_key'].encode(),scope)\n",
    "gc = gspread.authorize(credentials)\n",
    "wks = gc.open(\"ACC\")"
   ]
  },
  {
   "cell_type": "code",
   "execution_count": 48,
   "metadata": {
    "collapsed": false
   },
   "outputs": [
    {
     "name": "stdout",
     "output_type": "stream",
     "text": [
      "Astronomy http://www6.austincc.edu//schedule/index.php?op=browse&opclass=ViewSched&term=216F000&disciplineid=TFPHA&yr=2017&ct=CC\n",
      "[u'Course Schedule by Discipline - (Credit Fall 2016) ']\n",
      "[u'Course Schedule by Discipline - (Credit Fall 2016) ']\n",
      "Course Schedule by Discipline - (Credit Fall 2016) \n",
      "Astronomy 21:55:57 06/23/2016\n",
      "19\n",
      "Physics http://www6.austincc.edu//schedule/index.php?op=browse&opclass=ViewSched&term=216F000&disciplineid=TFPHP&yr=2017&ct=CC\n",
      "[u'Course Schedule by Discipline - (Credit Fall 2016) ']\n",
      "[u'Course Schedule by Discipline - (Credit Fall 2016) ']\n",
      "Course Schedule by Discipline - (Credit Fall 2016) \n",
      "Physics 21:56:24 06/23/2016\n",
      "91\n"
     ]
    }
   ],
   "source": [
    "# Import html from each discipline URL's into beautiful soup\n",
    "\n",
    "for index, URLx in enumerate(urls):\n",
    "    print disciplines[index], urls[index]\n",
    "    response = requests.get(URLx)\n",
    "    html = response.content\n",
    "    soup = BeautifulSoup(html)\n",
    "#    print soup.prettify\n",
    "    list_of_rows=[]\n",
    "    timenow = (time.strftime(\" %H:%M:%S %m/%d/%Y\"))\n",
    "    \n",
    "    term = soup.find_all(text=re.compile('Fall 2016'), limit=1)\n",
    "    print term\n",
    "    print str(term)\n",
    "    print term[0].string\n",
    "    \n",
    "    title = disciplines[index] + str(timenow)\n",
    "    print title\n",
    "    \n",
    "    for row in soup.find_all('table','section_line'):\n",
    "        list_of_cells=[]\n",
    "#        print list_of_cells\n",
    "        for cell in row.find_all(\"td\"):\n",
    "            texta=cell.text\n",
    "            list_of_cells.append(texta)\n",
    "#            print \"texta\",texta\n",
    "            textb = cell.find_previous('h4')\n",
    "        textc = textb.text\n",
    "        list_of_cells.append(textc)\n",
    "        list_of_rows.append(list_of_cells)\n",
    "    length = len(list_of_rows)+1\n",
    "    print length\n",
    "#Create new google worksheet within google sheet for each discipline with date/time included in name\n",
    "    worksheet = wks.add_worksheet(title, rows=length,cols='3')\n",
    "    worksheet.update_cell(1,1,urls[index]) \n",
    "    worksheet.update_cell(1,2,term[0].string)\n",
    "    for index, row in enumerate(list_of_rows, start=2):\n",
    "        worksheet.update_cell(index,1,row[16])\n",
    "        worksheet.update_cell(index,2,row[5])\n",
    "        worksheet.update_cell(index,3,row[15])\n",
    "        "
   ]
  },
  {
   "cell_type": "code",
   "execution_count": null,
   "metadata": {
    "collapsed": false
   },
   "outputs": [],
   "source": []
  },
  {
   "cell_type": "code",
   "execution_count": null,
   "metadata": {
    "collapsed": true
   },
   "outputs": [],
   "source": []
  }
 ],
 "metadata": {
  "kernelspec": {
   "display_name": "Python 2",
   "language": "python",
   "name": "python2"
  },
  "language_info": {
   "codemirror_mode": {
    "name": "ipython",
    "version": 2
   },
   "file_extension": ".py",
   "mimetype": "text/x-python",
   "name": "python",
   "nbconvert_exporter": "python",
   "pygments_lexer": "ipython2",
   "version": "2.7.11"
  }
 },
 "nbformat": 4,
 "nbformat_minor": 0
}
